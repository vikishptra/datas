{
 "cells": [
  {
   "cell_type": "code",
   "execution_count": 48,
   "id": "15c602a9",
   "metadata": {},
   "outputs": [
    {
     "name": "stdout",
     "output_type": "stream",
     "text": [
      "Welcome to the CBC MILP Solver \n",
      "Version: 2.10.5 \n",
      "Build Date: Apr 19 2021 \n",
      "\n",
      "command line - cbc /var/folders/cw/l_x9xn3x27vdv6f1zcgtl0m80000gn/T/2df3b63c698b4877a4f8748a054ffb79-pulp.mps max timeMode elapsed branch printingOptions all solution /var/folders/cw/l_x9xn3x27vdv6f1zcgtl0m80000gn/T/2df3b63c698b4877a4f8748a054ffb79-pulp.sol (default strategy 1)\n",
      "At line 2 NAME          MODEL\n",
      "At line 3 ROWS\n",
      "At line 9 COLUMNS\n",
      "At line 22 RHS\n",
      "At line 27 BOUNDS\n",
      "At line 30 ENDATA\n",
      "Problem MODEL has 4 rows, 2 columns and 6 elements\n",
      "Coin0008I MODEL read with 0 errors\n",
      "Option for timeMode changed from cpu to elapsed\n",
      "Continuous objective value is 8e+09 - 0.00 seconds\n",
      "Cgl0004I processed model has 0 rows, 0 columns (0 integer (0 of which binary)) and 0 elements\n",
      "Cbc3007W No integer variables - nothing to do\n",
      "Cuts at root node changed objective from -8e+09 to -1.79769e+308\n",
      "Probing was tried 0 times and created 0 cuts of which 0 were active after adding rounds of cuts (0.000 seconds)\n",
      "Gomory was tried 0 times and created 0 cuts of which 0 were active after adding rounds of cuts (0.000 seconds)\n",
      "Knapsack was tried 0 times and created 0 cuts of which 0 were active after adding rounds of cuts (0.000 seconds)\n",
      "Clique was tried 0 times and created 0 cuts of which 0 were active after adding rounds of cuts (0.000 seconds)\n",
      "MixedIntegerRounding2 was tried 0 times and created 0 cuts of which 0 were active after adding rounds of cuts (0.000 seconds)\n",
      "FlowCover was tried 0 times and created 0 cuts of which 0 were active after adding rounds of cuts (0.000 seconds)\n",
      "TwoMirCuts was tried 0 times and created 0 cuts of which 0 were active after adding rounds of cuts (0.000 seconds)\n",
      "ZeroHalf was tried 0 times and created 0 cuts of which 0 were active after adding rounds of cuts (0.000 seconds)\n",
      "\n",
      "Result - Optimal solution found\n",
      "\n",
      "Objective value:                8000000000.00000000\n",
      "Enumerated nodes:               0\n",
      "Total iterations:               0\n",
      "Time (CPU seconds):             0.00\n",
      "Time (Wallclock seconds):       0.01\n",
      "\n",
      "Option for printingOptions changed from normal to all\n",
      "Total time (CPU seconds):       0.00   (Wallclock seconds):       0.01\n",
      "\n",
      "Cat Eksterior di produksi  =  1000000\n",
      "Cat Interior di produksi  =  2000000\n",
      "Pendapatan Kotor Perusahaan dari Cat Eksterior dan Interior =  8000000\n"
     ]
    }
   ],
   "source": [
    "from pulp import *\n",
    "x1 = LpVariable(\"x1\", lowBound=0, cat='Integer')\n",
    "x2 = LpVariable(\"x2\", lowBound=0, cat='Integer')\n",
    "\n",
    "prob = LpProblem(\"Menghitung Maks Pendapatan Kotor Perusahaan Cat\", LpMaximize)\n",
    "\n",
    "\n",
    "prob += 1*x1 + 2*x2 <= 6000000\n",
    "prob += 2*x1 + 1*x2 <= 8000000\n",
    "prob += x2 >= 1000000 >= x1\n",
    "prob += x2 <= 2000000\n",
    "prob += 2000*x1+3000*x2\n",
    "\n",
    "status = prob.solve()\n",
    "resultx1 = int(value(x1))\n",
    "resultx2 = int(value(x2))\n",
    "resultPendapatan = int(2000*rsltX1+3000*rsltX2)\n",
    "\n",
    "print(\"Cat Eksterior di produksi  = \", resultx1)\n",
    "print(\"Cat Interior di produksi  = \", resultx2)\n",
    "print(\"Pendapatan Kotor Perusahaan dari Cat Eksterior dan Interior = \", resultPendapatan)"
   ]
  },
  {
   "cell_type": "code",
   "execution_count": null,
   "id": "41c22c1c",
   "metadata": {},
   "outputs": [],
   "source": []
  },
  {
   "cell_type": "code",
   "execution_count": null,
   "id": "76081ed3",
   "metadata": {},
   "outputs": [],
   "source": []
  },
  {
   "cell_type": "code",
   "execution_count": null,
   "id": "4ac238eb",
   "metadata": {},
   "outputs": [],
   "source": []
  },
  {
   "cell_type": "code",
   "execution_count": null,
   "id": "d48012d6",
   "metadata": {},
   "outputs": [],
   "source": []
  }
 ],
 "metadata": {
  "kernelspec": {
   "display_name": "Python 3 (ipykernel)",
   "language": "python",
   "name": "python3"
  },
  "language_info": {
   "codemirror_mode": {
    "name": "ipython",
    "version": 3
   },
   "file_extension": ".py",
   "mimetype": "text/x-python",
   "name": "python",
   "nbconvert_exporter": "python",
   "pygments_lexer": "ipython3",
   "version": "3.9.13"
  }
 },
 "nbformat": 4,
 "nbformat_minor": 5
}
