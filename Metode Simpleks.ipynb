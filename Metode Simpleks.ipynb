{
 "cells": [
  {
   "cell_type": "code",
   "execution_count": 53,
   "id": "636a6eea",
   "metadata": {},
   "outputs": [
    {
     "name": "stdout",
     "output_type": "stream",
     "text": [
      "Welcome to the CBC MILP Solver \n",
      "Version: 2.10.5 \n",
      "Build Date: Apr 19 2021 \n",
      "\n",
      "command line - cbc /var/folders/cw/l_x9xn3x27vdv6f1zcgtl0m80000gn/T/48da0b0e4e72494bad748241424bffee-pulp.mps max timeMode elapsed branch printingOptions all solution /var/folders/cw/l_x9xn3x27vdv6f1zcgtl0m80000gn/T/48da0b0e4e72494bad748241424bffee-pulp.sol (default strategy 1)\n",
      "At line 2 NAME          MODEL\n",
      "At line 3 ROWS\n",
      "At line 9 COLUMNS\n",
      "At line 19 RHS\n",
      "At line 24 BOUNDS\n",
      "At line 25 ENDATA\n",
      "Problem MODEL has 4 rows, 2 columns and 7 elements\n",
      "Coin0008I MODEL read with 0 errors\n",
      "Option for timeMode changed from cpu to elapsed\n",
      "Presolve 3 (-1) rows, 2 (0) columns and 6 (-1) elements\n",
      "0  Obj -0 Dual inf 5000 (2)\n",
      "2  Obj 12666.667\n",
      "Optimal - objective value 12666.667\n",
      "After Postsolve, objective 12666.667, infeasibilities - dual 0 (0), primal 0 (0)\n",
      "Optimal objective 12666.66667 - 2 iterations time 0.002, Presolve 0.00\n",
      "Option for printingOptions changed from normal to all\n",
      "Total time (CPU seconds):       0.00   (Wallclock seconds):       0.00\n",
      "\n",
      "Cat Eksterior yang diproduksi sebaiknya berjumlah  3\n",
      "Cat Interior yang diproduksi sebaiknya berjumlah  1\n"
     ]
    },
    {
     "name": "stderr",
     "output_type": "stream",
     "text": [
      "/Users/vickysahputra/opt/anaconda3/lib/python3.9/site-packages/pulp/pulp.py:1352: UserWarning: Spaces are not permitted in the name. Converted to '_'\n",
      "  warnings.warn(\"Spaces are not permitted in the name. Converted to '_'\")\n"
     ]
    }
   ],
   "source": [
    "from pulp import *\n",
    "x1 = LpVariable(\"x1\", lowBound=0, cat='Float')\n",
    "x2 = LpVariable(\"x2\", lowBound=0, cat='Float')\n",
    "\n",
    "prob = LpProblem(\"Menghitung Maks Pendapatan Kotor Perusahaan Cat\", LpMaximize)\n",
    "\n",
    "\n",
    "prob += 1*x1 + 2*x2 <= 6\n",
    "prob += 2*x1 + 1*x2 <= 8\n",
    "prob += x2 - x1 <= 1\n",
    "prob += x2 <= 2\n",
    "prob += 3000*x1+2000*x2\n",
    "\n",
    "#hasil memaksimumkan pendapatan kotor perusahaan = 12666.667\n",
    "status = prob.solve()\n",
    "\n",
    "#rubah menjadi bilangan int\n",
    "resultx1 = int(value(x1))\n",
    "resultx2 = int(value(x2))\n",
    "print('Cat Eksterior yang diproduksi sebaiknya berjumlah ',resultx1)\n",
    "print('Cat Interior yang diproduksi sebaiknya berjumlah ',resultx2)\n",
    "\n"
   ]
  },
  {
   "cell_type": "code",
   "execution_count": null,
   "id": "b251fade",
   "metadata": {},
   "outputs": [],
   "source": []
  }
 ],
 "metadata": {
  "kernelspec": {
   "display_name": "Python 3 (ipykernel)",
   "language": "python",
   "name": "python3"
  },
  "language_info": {
   "codemirror_mode": {
    "name": "ipython",
    "version": 3
   },
   "file_extension": ".py",
   "mimetype": "text/x-python",
   "name": "python",
   "nbconvert_exporter": "python",
   "pygments_lexer": "ipython3",
   "version": "3.9.13"
  }
 },
 "nbformat": 4,
 "nbformat_minor": 5
}
